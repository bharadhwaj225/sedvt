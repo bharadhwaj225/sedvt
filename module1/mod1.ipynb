{
 "cells": [
  {
   "cell_type": "code",
   "execution_count": 20,
   "metadata": {
    "colab": {
     "base_uri": "https://localhost:8080/"
    },
    "executionInfo": {
     "elapsed": 17505,
     "status": "ok",
     "timestamp": 1700550684256,
     "user": {
      "displayName": "Creatorslab",
      "userId": "16482192974200004080"
     },
     "user_tz": -330
    },
    "id": "-PaEyGZwt9tQ",
    "outputId": "f5229063-a2de-479a-be95-c14c13d2ec30"
   },
   "outputs": [],
   "source": [
    "import pandas as pd\n",
    "\n",
    "df = pd.read_csv(\"data.csv\")"
   ]
  },
  {
   "cell_type": "code",
   "execution_count": 21,
   "metadata": {
    "id": "-JNMSSXgK4Mq"
   },
   "outputs": [],
   "source": [
    "import pandas as pd\n",
    "\n",
    "# Load the data\n",
    "def load_data():\n",
    "    return pd.read_csv('data.csv')\n",
    "\n",
    "df = load_data()"
   ]
  },
  {
   "cell_type": "code",
   "execution_count": 22,
   "metadata": {
    "colab": {
     "base_uri": "https://localhost:8080/"
    },
    "executionInfo": {
     "elapsed": 6,
     "status": "ok",
     "timestamp": 1700551309586,
     "user": {
      "displayName": "Creatorslab",
      "userId": "16482192974200004080"
     },
     "user_tz": -330
    },
    "id": "R0ssf9Piv-fn",
    "outputId": "6c871296-99d5-4b12-b9ee-9c6e0872ff4e"
   },
   "outputs": [
    {
     "name": "stdout",
     "output_type": "stream",
     "text": [
      "Raw Data:\n",
      "       States_UnionTerritories  2000-01-INC  2011-12-INC  2001 - LIT  \\\n",
      "0  Andaman and Nicobar Islands        25047        89642       81.30   \n",
      "1               Andhra Pradesh        17195        64773       60.47   \n",
      "2            Arunachal Pradesh        15260        71366       54.34   \n",
      "3                        Assam        12803        36320       63.25   \n",
      "4                        Bihar         6415        22582       47.00   \n",
      "\n",
      "   2011-LIT  2001 - POP  2011- POP  2001 -SEX_Ratio  2011 -SEX_Ratio  \\\n",
      "0     86.63         356        381              846              876   \n",
      "1     67.02       76210      84581              978              993   \n",
      "2     65.39        1098       1384              893              938   \n",
      "3     72.19       26656      31206              935              958   \n",
      "4     61.80       82999     104099              919              918   \n",
      "\n",
      "   2001 -UNEMP  2011 -UNEMP  2001 -Poverty  2011-Poverty  \n",
      "0           34           54          20.99          1.00  \n",
      "1            8           12          15.77          9.20  \n",
      "2            5           17          33.47         34.67  \n",
      "3           39           45          36.09         31.98  \n",
      "4           18           32          42.60         33.74  \n"
     ]
    }
   ],
   "source": [
    "\n",
    "# Display raw data\n",
    "print(\"Raw Data:\")\n",
    "print(df.head())  # Displaying the first few rows\n"
   ]
  },
  {
   "cell_type": "code",
   "execution_count": 23,
   "metadata": {
    "colab": {
     "base_uri": "https://localhost:8080/"
    },
    "executionInfo": {
     "elapsed": 3,
     "status": "ok",
     "timestamp": 1700551315652,
     "user": {
      "displayName": "Creatorslab",
      "userId": "16482192974200004080"
     },
     "user_tz": -330
    },
    "id": "XhWc1cOcwbQQ",
    "outputId": "728ba031-b3fa-4b4f-f889-4325f8c085be"
   },
   "outputs": [
    {
     "name": "stdout",
     "output_type": "stream",
     "text": [
      "Poverty Rate Changes from 2001 to 2011\n",
      "       States_UnionTerritories  2001 -Poverty  2011-Poverty\n",
      "0  Andaman and Nicobar Islands          20.99          1.00\n",
      "1               Andhra Pradesh          15.77          9.20\n",
      "2            Arunachal Pradesh          33.47         34.67\n",
      "3                        Assam          36.09         31.98\n",
      "4                        Bihar          42.60         33.74\n"
     ]
    }
   ],
   "source": [
    "\n",
    "# Analyzing Poverty Rate Changes\n",
    "print(\"Poverty Rate Changes from 2001 to 2011\")\n",
    "poverty_change = df[['States_UnionTerritories', '2001 -Poverty', '2011-Poverty']].copy()\n",
    "print(poverty_change.head())\n",
    "\n"
   ]
  },
  {
   "cell_type": "code",
   "execution_count": 24,
   "metadata": {
    "colab": {
     "base_uri": "https://localhost:8080/"
    },
    "executionInfo": {
     "elapsed": 5,
     "status": "ok",
     "timestamp": 1700551321491,
     "user": {
      "displayName": "Creatorslab",
      "userId": "16482192974200004080"
     },
     "user_tz": -330
    },
    "id": "QCczj9Aswc0Q",
    "outputId": "00555a02-044b-4731-d864-3f9f5ddc600a"
   },
   "outputs": [
    {
     "name": "stdout",
     "output_type": "stream",
     "text": [
      "Literacy Rate Changes from 2001 to 2011\n",
      "       States_UnionTerritories  2001 - LIT  2011-LIT\n",
      "0  Andaman and Nicobar Islands       81.30     86.63\n",
      "1               Andhra Pradesh       60.47     67.02\n",
      "2            Arunachal Pradesh       54.34     65.39\n",
      "3                        Assam       63.25     72.19\n",
      "4                        Bihar       47.00     61.80\n"
     ]
    }
   ],
   "source": [
    "# Comparing Literacy Rate Changes\n",
    "print(\"Literacy Rate Changes from 2001 to 2011\")\n",
    "literacy_change = df[['States_UnionTerritories', '2001 - LIT', '2011-LIT']].copy()\n",
    "print(literacy_change.head())\n",
    "\n"
   ]
  },
  {
   "cell_type": "code",
   "execution_count": 25,
   "metadata": {
    "colab": {
     "base_uri": "https://localhost:8080/"
    },
    "executionInfo": {
     "elapsed": 6,
     "status": "ok",
     "timestamp": 1700551327828,
     "user": {
      "displayName": "Creatorslab",
      "userId": "16482192974200004080"
     },
     "user_tz": -330
    },
    "id": "cbSu1UPLweOQ",
    "outputId": "b386917e-29cd-495d-f723-7f0723627a8f"
   },
   "outputs": [
    {
     "name": "stdout",
     "output_type": "stream",
     "text": [
      "Sex Ratio Changes from 2001 to 2011\n",
      "       States_UnionTerritories  2001 -SEX_Ratio  2011 -SEX_Ratio\n",
      "0  Andaman and Nicobar Islands              846              876\n",
      "1               Andhra Pradesh              978              993\n",
      "2            Arunachal Pradesh              893              938\n",
      "3                        Assam              935              958\n",
      "4                        Bihar              919              918\n"
     ]
    }
   ],
   "source": [
    "# Sex Ratio Changes\n",
    "print(\"Sex Ratio Changes from 2001 to 2011\")\n",
    "sex_ratio_change = df[['States_UnionTerritories', '2001 -SEX_Ratio', '2011 -SEX_Ratio']].copy()\n",
    "print(sex_ratio_change.head())\n",
    "\n"
   ]
  },
  {
   "cell_type": "code",
   "execution_count": 26,
   "metadata": {
    "colab": {
     "base_uri": "https://localhost:8080/"
    },
    "executionInfo": {
     "elapsed": 521,
     "status": "ok",
     "timestamp": 1700551334211,
     "user": {
      "displayName": "Creatorslab",
      "userId": "16482192974200004080"
     },
     "user_tz": -330
    },
    "id": "ctLoZ52vwftG",
    "outputId": "a0e8309c-e54a-4d25-c6f2-9e053bc5c60b"
   },
   "outputs": [
    {
     "name": "stdout",
     "output_type": "stream",
     "text": [
      "Population Growth from 2001 to 2011\n",
      "   States_UnionTerritories  Population Growth\n",
      "29           Uttar Pradesh              33614\n",
      "4                    Bihar              21100\n",
      "17             Maharashtra              15495\n",
      "16          Madhya Pradesh              12279\n",
      "25               Rajasthan              12041\n"
     ]
    }
   ],
   "source": [
    "# Population Growth\n",
    "print(\"Population Growth from 2001 to 2011\")\n",
    "df_copy = df.copy()\n",
    "df_copy['Population Growth'] = df_copy['2011- POP'] - df_copy['2001 - POP']\n",
    "df_copy.sort_values('Population Growth', ascending=False, inplace=True)\n",
    "print(df_copy[['States_UnionTerritories', 'Population Growth']].head())\n",
    "\n"
   ]
  },
  {
   "cell_type": "code",
   "execution_count": 27,
   "metadata": {
    "colab": {
     "base_uri": "https://localhost:8080/"
    },
    "executionInfo": {
     "elapsed": 5,
     "status": "ok",
     "timestamp": 1700551339124,
     "user": {
      "displayName": "Creatorslab",
      "userId": "16482192974200004080"
     },
     "user_tz": -330
    },
    "id": "T6S6lseiwhOY",
    "outputId": "52450cfa-df8d-4249-eca5-7aa20f87cfcb"
   },
   "outputs": [
    {
     "name": "stdout",
     "output_type": "stream",
     "text": [
      "Correlation Matrix\n",
      "                 2000-01-INC  2011-12-INC  2001 - LIT  2011-LIT  2001 - POP  \\\n",
      "2000-01-INC         1.000000     0.856503    0.339893  0.410330   -0.347463   \n",
      "2011-12-INC         0.856503     1.000000    0.320797  0.409660   -0.341904   \n",
      "2001 - LIT          0.339893     0.320797    1.000000  0.954714   -0.197126   \n",
      "2011-LIT            0.410330     0.409660    0.954714  1.000000   -0.236801   \n",
      "2001 - POP         -0.347463    -0.341904   -0.197126 -0.236801    1.000000   \n",
      "2011- POP          -0.354727    -0.349059   -0.194548 -0.232625    0.998999   \n",
      "2001 -SEX_Ratio    -0.376493    -0.292318   -0.184731 -0.239140    0.075535   \n",
      "2011 -SEX_Ratio    -0.267230    -0.224162   -0.186974 -0.241932   -0.013069   \n",
      "2001 -UNEMP         0.418115     0.556975   -0.025393  0.069774   -0.221888   \n",
      "2011 -UNEMP         0.136922     0.142222   -0.130303 -0.030493   -0.303407   \n",
      "2001 -Poverty      -0.646359    -0.567767   -0.199488 -0.274090    0.213448   \n",
      "2011-Poverty       -0.522265    -0.587595   -0.188766 -0.246837    0.242429   \n",
      "\n",
      "                 2011- POP  2001 -SEX_Ratio  2011 -SEX_Ratio  2001 -UNEMP  \\\n",
      "2000-01-INC      -0.354727        -0.376493        -0.267230     0.418115   \n",
      "2011-12-INC      -0.349059        -0.292318        -0.224162     0.556975   \n",
      "2001 - LIT       -0.194548        -0.184731        -0.186974    -0.025393   \n",
      "2011-LIT         -0.232625        -0.239140        -0.241932     0.069774   \n",
      "2001 - POP        0.998999         0.075535        -0.013069    -0.221888   \n",
      "2011- POP         1.000000         0.060463        -0.030603    -0.231557   \n",
      "2001 -SEX_Ratio   0.060463         1.000000         0.969892     0.257778   \n",
      "2011 -SEX_Ratio  -0.030603         0.969892         1.000000     0.330296   \n",
      "2001 -UNEMP      -0.231557         0.257778         0.330296     1.000000   \n",
      "2011 -UNEMP      -0.305636        -0.113035        -0.034893     0.403913   \n",
      "2001 -Poverty     0.223641         0.190688         0.180561    -0.217504   \n",
      "2011-Poverty      0.258446         0.071169         0.046818    -0.332960   \n",
      "\n",
      "                 2011 -UNEMP  2001 -Poverty  2011-Poverty  \n",
      "2000-01-INC         0.136922      -0.646359     -0.522265  \n",
      "2011-12-INC         0.142222      -0.567767     -0.587595  \n",
      "2001 - LIT         -0.130303      -0.199488     -0.188766  \n",
      "2011-LIT           -0.030493      -0.274090     -0.246837  \n",
      "2001 - POP         -0.303407       0.213448      0.242429  \n",
      "2011- POP          -0.305636       0.223641      0.258446  \n",
      "2001 -SEX_Ratio    -0.113035       0.190688      0.071169  \n",
      "2011 -SEX_Ratio    -0.034893       0.180561      0.046818  \n",
      "2001 -UNEMP         0.403913      -0.217504     -0.332960  \n",
      "2011 -UNEMP         1.000000       0.042132     -0.170415  \n",
      "2001 -Poverty       0.042132       1.000000      0.642361  \n",
      "2011-Poverty       -0.170415       0.642361      1.000000  \n"
     ]
    }
   ],
   "source": [
    "# Correlation Matrix\n",
    "print(\"Correlation Matrix\")\n",
    "numeric_df = df.select_dtypes(include=['float64', 'int64'])  # Select only numeric columns\n",
    "corr = numeric_df.corr()\n",
    "print(corr)\n",
    "\n"
   ]
  },
  {
   "cell_type": "code",
   "execution_count": 28,
   "metadata": {
    "colab": {
     "base_uri": "https://localhost:8080/"
    },
    "executionInfo": {
     "elapsed": 2,
     "status": "ok",
     "timestamp": 1700551341546,
     "user": {
      "displayName": "Creatorslab",
      "userId": "16482192974200004080"
     },
     "user_tz": -330
    },
    "id": "A9dSuTpPwidB",
    "outputId": "e2598aa4-c900-4bad-a352-5b51fea3ecc7"
   },
   "outputs": [
    {
     "name": "stdout",
     "output_type": "stream",
     "text": [
      "Top 5 States with Highest Increase in Literacy Rate from 2001 to 2011\n",
      "   States_UnionTerritories  Literacy Growth\n",
      "7                    Delhi            18.61\n",
      "4                    Bihar            14.80\n",
      "30             Uttarakhand            14.03\n",
      "24                  Punjab            13.01\n",
      "15                  Kerala            12.85\n"
     ]
    }
   ],
   "source": [
    "# Top 5 states with highest increase in literacy rate\n",
    "print(\"Top 5 States with Highest Increase in Literacy Rate from 2001 to 2011\")\n",
    "df_copy['Literacy Growth'] = df_copy['2011-LIT'] - df_copy['2001 - LIT']\n",
    "top5_lit = df_copy.nlargest(5, 'Literacy Growth')[['States_UnionTerritories', 'Literacy Growth']]\n",
    "print(top5_lit)\n"
   ]
  },
  {
   "cell_type": "code",
   "execution_count": 29,
   "metadata": {
    "id": "Nyos1_Cwwi_l"
   },
   "outputs": [],
   "source": [
    "import pandas as pd\n",
    "\n",
    "# Sample data for demo\n",
    "states = [\"Andhra Pradesh\", \"Maharashtra\", \"Uttar Pradesh\", \"Karnataka\", \"Tamil Nadu\", \"Rajasthan\", \"Gujarat\", \"Odisha\", \"West Bengal\", \"Kerala\"]\n",
    "locations = {\n",
    "    \"Andhra Pradesh\": [(15.9129, 79.7400)],\n",
    "    \"Maharashtra\": [(19.7515, 75.7139)],\n",
    "    \"Uttar Pradesh\": [(26.8467, 80.9462)],\n",
    "    \"Karnataka\": [(15.3173, 75.7139)],\n",
    "    \"Tamil Nadu\": [(11.1271, 78.6569)],\n",
    "    \"Rajasthan\": [(27.0238, 74.2179)],\n",
    "    \"Gujarat\": [(22.2587, 71.1924)],\n",
    "    \"Odisha\": [(20.9517, 85.0985)],\n",
    "    \"West Bengal\": [(22.9868, 87.8550)],\n",
    "    \"Kerala\": [(10.8505, 76.2711)]\n",
    "}"
   ]
  },
  {
   "cell_type": "code",
   "execution_count": 30,
   "metadata": {
    "id": "Vf0ttOs8x96t"
   },
   "outputs": [],
   "source": [
    "# the same dictionary as in your code\n",
    "\n",
    "resource_data = pd.DataFrame({\n",
    "    'State': states,\n",
    "    'Population Density': [303, 365, 828, 319, 555, 200, 308, 269, 1029, 859],\n",
    "    'Literacy Rate': [67, 82, 67, 75, 80, 66, 78, 73, 77, 94],\n",
    "    'Average Income': [140000, 180000, 57000, 150000, 160000, 82000, 150000, 73000, 88000, 135000],\n",
    "    'Urbanization Rate': [35, 45, 28, 40, 48, 24, 42, 29, 31, 47],\n",
    "    'Unemployment Rate': [5, 4, 6, 5, 4, 5, 4, 6, 5, 3]\n",
    "})\n"
   ]
  },
  {
   "cell_type": "code",
   "execution_count": 31,
   "metadata": {
    "colab": {
     "base_uri": "https://localhost:8080/"
    },
    "executionInfo": {
     "elapsed": 8,
     "status": "ok",
     "timestamp": 1700551731394,
     "user": {
      "displayName": "Creatorslab",
      "userId": "16482192974200004080"
     },
     "user_tz": -330
    },
    "id": "24Z2bRwnyANz",
    "outputId": "2712b79f-36b1-4128-fa8b-e86642c0d2f6"
   },
   "outputs": [
    {
     "name": "stdout",
     "output_type": "stream",
     "text": [
      "Resource Data:\n",
      "            State  Population Density  Literacy Rate  Average Income  \\\n",
      "0  Andhra Pradesh                 303             67          140000   \n",
      "1     Maharashtra                 365             82          180000   \n",
      "2   Uttar Pradesh                 828             67           57000   \n",
      "3       Karnataka                 319             75          150000   \n",
      "4      Tamil Nadu                 555             80          160000   \n",
      "5       Rajasthan                 200             66           82000   \n",
      "6         Gujarat                 308             78          150000   \n",
      "7          Odisha                 269             73           73000   \n",
      "8     West Bengal                1029             77           88000   \n",
      "9          Kerala                 859             94          135000   \n",
      "\n",
      "   Urbanization Rate  Unemployment Rate  \n",
      "0                 35                  5  \n",
      "1                 45                  4  \n",
      "2                 28                  6  \n",
      "3                 40                  5  \n",
      "4                 48                  4  \n",
      "5                 24                  5  \n",
      "6                 42                  4  \n",
      "7                 29                  6  \n",
      "8                 31                  5  \n",
      "9                 47                  3  \n"
     ]
    }
   ],
   "source": [
    "\n",
    "# Displaying dataframe\n",
    "print(\"Resource Data:\")\n",
    "print(resource_data)\n",
    "\n"
   ]
  },
  {
   "cell_type": "code",
   "execution_count": 32,
   "metadata": {
    "id": "L10xlESvyCNl"
   },
   "outputs": [],
   "source": [
    "# Aid Coordination Data\n",
    "aid_data = pd.DataFrame({\n",
    "    'Organization': ['NGO A', 'Government Program B', 'Charity C', 'NGO D', 'Charity E', 'Government Program F'],\n",
    "    'Contact': ['contact@ngoa.org', 'contact@govb.org', 'contact@charityc.org', 'contact@ngod.org', 'contact@charitye.org', 'contact@govf.org'],\n",
    "    'Programs Offered': [2, 3, 1, 2, 3, 2]\n",
    "})\n",
    "\n"
   ]
  },
  {
   "cell_type": "code",
   "execution_count": 33,
   "metadata": {
    "colab": {
     "base_uri": "https://localhost:8080/"
    },
    "executionInfo": {
     "elapsed": 8,
     "status": "ok",
     "timestamp": 1700551744076,
     "user": {
      "displayName": "Creatorslab",
      "userId": "16482192974200004080"
     },
     "user_tz": -330
    },
    "id": "j3C_2tUhyD4m",
    "outputId": "29ef31f4-54e4-40bd-b365-8f36e78ba19f"
   },
   "outputs": [
    {
     "name": "stdout",
     "output_type": "stream",
     "text": [
      "Aid Coordination Data:\n",
      "           Organization               Contact  Programs Offered\n",
      "0                 NGO A      contact@ngoa.org                 2\n",
      "1  Government Program B      contact@govb.org                 3\n",
      "2             Charity C  contact@charityc.org                 1\n",
      "3                 NGO D      contact@ngod.org                 2\n",
      "4             Charity E  contact@charitye.org                 3\n",
      "5  Government Program F      contact@govf.org                 2\n"
     ]
    }
   ],
   "source": [
    "print(\"Aid Coordination Data:\")\n",
    "print(aid_data)\n",
    "\n"
   ]
  },
  {
   "cell_type": "code",
   "execution_count": 34,
   "metadata": {
    "colab": {
     "base_uri": "https://localhost:8080/"
    },
    "executionInfo": {
     "elapsed": 352,
     "status": "ok",
     "timestamp": 1700551749756,
     "user": {
      "displayName": "Creatorslab",
      "userId": "16482192974200004080"
     },
     "user_tz": -330
    },
    "id": "-8g9_IlfyFQT",
    "outputId": "3b59fb99-89a8-4137-f7cf-8bd21bcf083b"
   },
   "outputs": [
    {
     "name": "stdout",
     "output_type": "stream",
     "text": [
      "Volunteer Opportunities Data:\n",
      "                   Opportunity        Location  \\\n",
      "0               Teach children  Andhra Pradesh   \n",
      "1              Distribute food     Maharashtra   \n",
      "2   Provide medical assistance   Uttar Pradesh   \n",
      "3              Clean-up drives       Karnataka   \n",
      "4  Skill development workshops      Tamil Nadu   \n",
      "5      Agricultural assistance       Rajasthan   \n",
      "\n",
      "                             Details  \n",
      "0  Teach subjects like Math, Science  \n",
      "1            Distribute food packets  \n",
      "2     Provide basic medical checkups  \n",
      "3        Organize community clean-up  \n",
      "4        Provide vocational training  \n",
      "5       Help with farming techniques  \n"
     ]
    }
   ],
   "source": [
    "# Volunteer Opportunities Data\n",
    "volunteer_data = pd.DataFrame({\n",
    "    'Opportunity': ['Teach children', 'Distribute food', 'Provide medical assistance', 'Clean-up drives', 'Skill development workshops', 'Agricultural assistance'],\n",
    "    'Location': ['Andhra Pradesh', 'Maharashtra', 'Uttar Pradesh', 'Karnataka', 'Tamil Nadu', 'Rajasthan'],\n",
    "    'Details': ['Teach subjects like Math, Science', 'Distribute food packets', 'Provide basic medical checkups', 'Organize community clean-up', 'Provide vocational training', 'Help with farming techniques']\n",
    "})\n",
    "\n",
    "print(\"Volunteer Opportunities Data:\")\n",
    "print(volunteer_data)\n"
   ]
  },
  {
   "cell_type": "code",
   "execution_count": 35,
   "metadata": {
    "id": "CXEw2yDHyGs_"
   },
   "outputs": [],
   "source": [
    "import pandas as pd\n",
    "\n",
    "# Dictionary of state coordinates\n",
    "state_coordinates = {\n",
    "    'Andaman and Nicobar Islands': [11.66702557, 92.73598262],\n",
    "    'Andhra Pradesh': [15.9129, 79.7400],\n",
    "    'Arunachal Pradesh': [28.2180, 94.7278],\n",
    "    'Assam': [26.2006, 92.9376],\n",
    "    'Bihar': [25.0961, 85.3131],\n",
    "    'Chandigarh': [30.7333, 76.7794],\n",
    "    'Chhattisgarh': [21.2787, 81.8661],\n",
    "    'Delhi': [28.6139, 77.2090],\n",
    "    'Goa': [15.2993, 74.1240],\n",
    "    'Gujarat': [22.2587, 71.1924],\n",
    "    'Haryana': [29.0588, 76.0856],\n",
    "    'Himachal Pradesh': [31.1048, 77.1734],\n",
    "    'Jammu and Kashmir': [33.7782, 76.5762],\n",
    "    'Jharkhand': [23.6102, 85.2799],\n",
    "    'Karnataka': [15.3173, 75.7139],\n",
    "    'Kerala': [10.8505, 76.2711],\n",
    "    'Madhya Pradesh': [22.9734, 78.6569],\n",
    "    'Maharashtra': [19.7515, 75.7139],\n",
    "    'Manipur': [24.6637, 93.9063],\n",
    "    'Meghalaya': [25.4670, 91.3662],\n",
    "    'Mizoram': [23.1645, 92.9376],\n",
    "    'Nagaland': [26.1584, 94.5624],\n",
    "    'Odisha': [20.9517, 85.0985],\n",
    "    'Puducherry': [11.9416, 79.8083],\n",
    "    'Punjab': [31.1471, 75.3412],\n",
    "    'Rajasthan': [27.0238, 74.2179],\n",
    "    'Sikkim': [27.5330, 88.5122],\n",
    "    'Tamil Nadu': [11.1271, 78.6569],\n",
    "    'Tripura': [23.9408, 91.9882],\n",
    "    'Uttar Pradesh': [26.8467, 80.9462],\n",
    "    'Uttarakhand': [30.0668, 79.0193],\n",
    "    'West Bengal': [22.9868, 87.8550]\n",
    "}\n",
    "# Load the data (replace with appropriate data loading mechanism)\n",
    "def load_data():\n",
    "    return pd.read_csv('data.csv')\n",
    "\n",
    "df = load_data()\n"
   ]
  },
  {
   "cell_type": "code",
   "execution_count": 36,
   "metadata": {
    "colab": {
     "base_uri": "https://localhost:8080/"
    },
    "executionInfo": {
     "elapsed": 444,
     "status": "ok",
     "timestamp": 1700552125981,
     "user": {
      "displayName": "Creatorslab",
      "userId": "16482192974200004080"
     },
     "user_tz": -330
    },
    "id": "IH3uCQC7zhDT",
    "outputId": "c2bba6a0-0e56-412a-d720-0558fb9d331d"
   },
   "outputs": [
    {
     "name": "stdout",
     "output_type": "stream",
     "text": [
      "Raw Data:\n",
      "       States_UnionTerritories  2000-01-INC  2011-12-INC  2001 - LIT  \\\n",
      "0  Andaman and Nicobar Islands        25047        89642       81.30   \n",
      "1               Andhra Pradesh        17195        64773       60.47   \n",
      "2            Arunachal Pradesh        15260        71366       54.34   \n",
      "3                        Assam        12803        36320       63.25   \n",
      "4                        Bihar         6415        22582       47.00   \n",
      "\n",
      "   2011-LIT  2001 - POP  2011- POP  2001 -SEX_Ratio  2011 -SEX_Ratio  \\\n",
      "0     86.63         356        381              846              876   \n",
      "1     67.02       76210      84581              978              993   \n",
      "2     65.39        1098       1384              893              938   \n",
      "3     72.19       26656      31206              935              958   \n",
      "4     61.80       82999     104099              919              918   \n",
      "\n",
      "   2001 -UNEMP  2011 -UNEMP  2001 -Poverty  2011-Poverty  \n",
      "0           34           54          20.99          1.00  \n",
      "1            8           12          15.77          9.20  \n",
      "2            5           17          33.47         34.67  \n",
      "3           39           45          36.09         31.98  \n",
      "4           18           32          42.60         33.74  \n"
     ]
    }
   ],
   "source": [
    "\n",
    "# Display raw data\n",
    "print(\"Raw Data:\")\n",
    "print(df.head())  # Displaying the first few rows\n"
   ]
  },
  {
   "cell_type": "code",
   "execution_count": 37,
   "metadata": {
    "id": "XdYH_UfSzijN"
   },
   "outputs": [],
   "source": [
    "\n",
    "# Function to map a value to a color (for later visualization use)\n",
    "def value_to_color(value, min_val, max_val):\n",
    "    norm_value = (value - min_val) / (max_val - min_val)\n",
    "    blue = int(255 * (1 - norm_value))\n",
    "    red = int(255 * norm_value)\n",
    "    return f\"#{red:02x}{0:02x}{blue:02x}\"\n"
   ]
  },
  {
   "cell_type": "code",
   "execution_count": 38,
   "metadata": {
    "id": "GcC0aYPOzjqQ"
   },
   "outputs": [],
   "source": [
    "\n",
    "# Preparing data for mapping (example for one column)\n",
    "column_name = '2011-LIT'  # Example column\n",
    "min_val = df[column_name].min()\n",
    "max_val = df[column_name].max()\n"
   ]
  },
  {
   "cell_type": "code",
   "execution_count": 40,
   "metadata": {
    "colab": {
     "base_uri": "https://localhost:8080/"
    },
    "executionInfo": {
     "elapsed": 8,
     "status": "ok",
     "timestamp": 1700552142303,
     "user": {
      "displayName": "Creatorslab",
      "userId": "16482192974200004080"
     },
     "user_tz": -330
    },
    "id": "7goi2FkZzkOB",
    "outputId": "0c1f73ea-ef11-4aaa-f76a-4ce7dc986a15"
   },
   "outputs": [
    {
     "name": "stdout",
     "output_type": "stream",
     "text": [
      "Prepared Data for Mapping:\n",
      "                         State                    Location  Value    Color\n",
      "0  Andaman and Nicobar Islands  [11.66702557, 92.73598262]  86.63  #c4003a\n",
      "1               Andhra Pradesh            [15.9129, 79.74]  67.02  #2900d5\n",
      "2            Arunachal Pradesh           [28.218, 94.7278]  65.39  #1c00e2\n",
      "3                        Assam          [26.2006, 92.9376]  72.19  #5200ac\n",
      "4                        Bihar          [25.0961, 85.3131]  61.80  #0000ff\n"
     ]
    }
   ],
   "source": [
    "# Prepare data for mapping\n",
    "map_data = []\n",
    "\n",
    "for idx, row in df.iterrows():\n",
    "    location = state_coordinates[row['States_UnionTerritories']]\n",
    "    value = row[column_name]\n",
    "    color = value_to_color(value, min_val, max_val)\n",
    "\n",
    "    # Append dictionary to the list instead of using DataFrame append\n",
    "    map_data.append({'State': row['States_UnionTerritories'], 'Location': location, 'Value': value, 'Color': color})\n",
    "\n",
    "# Convert list to DataFrame after the loop\n",
    "map_data = pd.DataFrame(map_data)\n",
    "\n",
    "print(\"Prepared Data for Mapping:\")\n",
    "print(map_data.head())\n"
   ]
  },
  {
   "cell_type": "code",
   "execution_count": 42,
   "metadata": {
    "id": "vRCphfETzmlq"
   },
   "outputs": [],
   "source": [
    "import pandas as pd\n",
    "import numpy as np\n",
    "from sklearn.model_selection import train_test_split\n",
    "from sklearn.linear_model import LinearRegression\n",
    "\n",
    "# Load the data\n",
    "df = pd.read_csv(\"data.csv\")\n",
    "\n"
   ]
  },
  {
   "cell_type": "code",
   "execution_count": 43,
   "metadata": {
    "colab": {
     "base_uri": "https://localhost:8080/"
    },
    "executionInfo": {
     "elapsed": 628,
     "status": "ok",
     "timestamp": 1700561141646,
     "user": {
      "displayName": "Creatorslab",
      "userId": "16482192974200004080"
     },
     "user_tz": -330
    },
    "id": "voHFHVdIVu76",
    "outputId": "58de135e-d255-479f-dc85-6b294580cd1e"
   },
   "outputs": [
    {
     "name": "stdout",
     "output_type": "stream",
     "text": [
      "Raw Data:\n",
      "       States_UnionTerritories  2000-01-INC  2011-12-INC  2001 - LIT  \\\n",
      "0  Andaman and Nicobar Islands        25047        89642       81.30   \n",
      "1               Andhra Pradesh        17195        64773       60.47   \n",
      "2            Arunachal Pradesh        15260        71366       54.34   \n",
      "3                        Assam        12803        36320       63.25   \n",
      "4                        Bihar         6415        22582       47.00   \n",
      "\n",
      "   2011-LIT  2001 - POP  2011- POP  2001 -SEX_Ratio  2011 -SEX_Ratio  \\\n",
      "0     86.63         356        381              846              876   \n",
      "1     67.02       76210      84581              978              993   \n",
      "2     65.39        1098       1384              893              938   \n",
      "3     72.19       26656      31206              935              958   \n",
      "4     61.80       82999     104099              919              918   \n",
      "\n",
      "   2001 -UNEMP  2011 -UNEMP  2001 -Poverty  2011-Poverty  \n",
      "0           34           54          20.99          1.00  \n",
      "1            8           12          15.77          9.20  \n",
      "2            5           17          33.47         34.67  \n",
      "3           39           45          36.09         31.98  \n",
      "4           18           32          42.60         33.74  \n"
     ]
    }
   ],
   "source": [
    "# Display raw data\n",
    "print(\"Raw Data:\")\n",
    "print(df.head())\n",
    "\n"
   ]
  },
  {
   "cell_type": "code",
   "execution_count": 44,
   "metadata": {
    "colab": {
     "base_uri": "https://localhost:8080/"
    },
    "executionInfo": {
     "elapsed": 7,
     "status": "ok",
     "timestamp": 1700561147064,
     "user": {
      "displayName": "Creatorslab",
      "userId": "16482192974200004080"
     },
     "user_tz": -330
    },
    "id": "yatWonzbV7qc",
    "outputId": "397184e8-7e65-4773-dd16-59944a43d088"
   },
   "outputs": [
    {
     "name": "stdout",
     "output_type": "stream",
     "text": [
      "\n",
      "Data Statistics:\n",
      "       2000-01-INC    2011-12-INC  2001 - LIT   2011-LIT     2001 - POP  \\\n",
      "count     32.00000      32.000000   32.000000  32.000000      32.000000   \n",
      "mean   19696.53125   74792.500000   69.810625  78.240312   32134.437500   \n",
      "std    10191.63120   40960.182286   11.149199   8.733646   38054.631775   \n",
      "min     6415.00000   22582.000000   47.000000  61.800000     356.000000   \n",
      "25%    12965.75000   47958.000000   62.950000  71.712500    2218.000000   \n",
      "50%    16418.00000   66413.000000   68.975000  77.465000   20989.500000   \n",
      "75%    22781.50000   89198.000000   78.945000  86.090000   53765.000000   \n",
      "max    49771.00000  211570.000000   90.860000  94.000000  166198.000000   \n",
      "\n",
      "           2011- POP  2001 -SEX_Ratio  2011 -SEX_Ratio  2001 -UNEMP  \\\n",
      "count      32.000000         32.00000        32.000000    32.000000   \n",
      "mean    37818.843750        928.87500       945.468750    21.406250   \n",
      "std     45189.884314         56.70737        53.105485    20.731555   \n",
      "min       381.000000        777.00000       818.000000     4.000000   \n",
      "25%      2636.750000        896.75000       916.500000     8.000000   \n",
      "50%     25448.000000        934.50000       949.000000    17.000000   \n",
      "75%     62958.250000        969.00000       976.750000    25.000000   \n",
      "max    199812.000000       1058.00000      1084.000000    93.000000   \n",
      "\n",
      "       2011 -UNEMP  2001 -Poverty  2011-Poverty  \n",
      "count    32.000000      32.000000     32.000000  \n",
      "mean     29.468750      22.627500     18.591563  \n",
      "std      32.223999      12.279176     11.086188  \n",
      "min       3.000000       3.480000      1.000000  \n",
      "25%       9.000000      12.180000      9.855000  \n",
      "50%      20.500000      21.395000     15.670000  \n",
      "75%      28.250000      32.870000     29.985000  \n",
      "max     151.000000      47.150000     39.930000  \n"
     ]
    }
   ],
   "source": [
    "# Display data statistics\n",
    "print(\"\\nData Statistics:\")\n",
    "print(df.describe())\n",
    "\n"
   ]
  },
  {
   "cell_type": "code",
   "execution_count": 45,
   "metadata": {
    "colab": {
     "base_uri": "https://localhost:8080/"
    },
    "executionInfo": {
     "elapsed": 436,
     "status": "ok",
     "timestamp": 1700561153681,
     "user": {
      "displayName": "Creatorslab",
      "userId": "16482192974200004080"
     },
     "user_tz": -330
    },
    "id": "Lyw0-3moV8-4",
    "outputId": "2c6d9268-bea1-48e5-c546-af784fa11b97"
   },
   "outputs": [
    {
     "name": "stdout",
     "output_type": "stream",
     "text": [
      "\n",
      "Data split into training and testing sets.\n"
     ]
    }
   ],
   "source": [
    "# Preprocess the data for model training\n",
    "X = df.drop(columns=['States_UnionTerritories', '2011-12-INC'])\n",
    "y = df['2011-12-INC']\n",
    "X_train, X_test, y_train, y_test = train_test_split(X, y, test_size=0.2, random_state=42)\n",
    "print(\"\\nData split into training and testing sets.\")\n",
    "\n"
   ]
  },
  {
   "cell_type": "code",
   "execution_count": 46,
   "metadata": {
    "colab": {
     "base_uri": "https://localhost:8080/"
    },
    "executionInfo": {
     "elapsed": 566,
     "status": "ok",
     "timestamp": 1700561162905,
     "user": {
      "displayName": "Creatorslab",
      "userId": "16482192974200004080"
     },
     "user_tz": -330
    },
    "id": "FZUoKuI7V-k7",
    "outputId": "f085abc9-3f95-4d45-895f-b557ba7f7465"
   },
   "outputs": [
    {
     "name": "stdout",
     "output_type": "stream",
     "text": [
      "\n",
      "Model trained using Linear Regression.\n"
     ]
    }
   ],
   "source": [
    "# Create and train the model\n",
    "model = LinearRegression()\n",
    "model.fit(X_train, y_train)\n",
    "print(\"\\nModel trained using Linear Regression.\")\n"
   ]
  }
 ],
 "metadata": {
  "colab": {
   "authorship_tag": "ABX9TyOdhAwvnhcUcNHDWtwHkp6h",
   "mount_file_id": "1FhzAQftUlV4K-4eXGr50jEDLnsvPc08Q",
   "provenance": []
  },
  "kernelspec": {
   "display_name": "Python 3",
   "name": "python3"
  },
  "language_info": {
   "codemirror_mode": {
    "name": "ipython",
    "version": 3
   },
   "file_extension": ".py",
   "mimetype": "text/x-python",
   "name": "python",
   "nbconvert_exporter": "python",
   "pygments_lexer": "ipython3",
   "version": "3.11.4"
  }
 },
 "nbformat": 4,
 "nbformat_minor": 0
}
